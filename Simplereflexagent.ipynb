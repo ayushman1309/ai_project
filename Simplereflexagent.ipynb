{
  "nbformat": 4,
  "nbformat_minor": 0,
  "metadata": {
    "colab": {
      "provenance": [],
      "include_colab_link": true
    },
    "kernelspec": {
      "name": "python3",
      "display_name": "Python 3"
    },
    "language_info": {
      "name": "python"
    }
  },
  "cells": [
    {
      "cell_type": "markdown",
      "metadata": {
        "id": "view-in-github",
        "colab_type": "text"
      },
      "source": [
        "<a href=\"https://colab.research.google.com/github/ayushman1309/ai_project/blob/main/Simplereflexagent.ipynb\" target=\"_parent\"><img src=\"https://colab.research.google.com/assets/colab-badge.svg\" alt=\"Open In Colab\"/></a>"
      ]
    },
    {
      "cell_type": "markdown",
      "source": [
        "Simple Reflex Agent for Vacuum Cleaner World"
      ],
      "metadata": {
        "id": "nnO-0fzkWP63"
      }
    },
    {
      "cell_type": "code",
      "execution_count": null,
      "metadata": {
        "id": "pGtuw6ijVcxe"
      },
      "outputs": [],
      "source": [
        "def reflex_vacuum_agent(location,status):\n",
        "  if status == \"Dirty\":\n",
        "    return \"Suck\"\n",
        "  elif location == \"A\":\n",
        "    return \"Right\"\n",
        "  elif location == \"B\":\n",
        "    return \"Left\""
      ]
    },
    {
      "cell_type": "markdown",
      "source": [
        "Test the reflex agent, A is dirty , B is clean"
      ],
      "metadata": {
        "id": "IVaUzjJ3WYA_"
      }
    },
    {
      "cell_type": "code",
      "source": [
        "location =  \"A\"\n",
        "status = \"Dirty\""
      ],
      "metadata": {
        "id": "Dr55vHYHVi3H"
      },
      "execution_count": null,
      "outputs": []
    },
    {
      "cell_type": "markdown",
      "source": [
        "Agent's action"
      ],
      "metadata": {
        "id": "KERayzlCXli4"
      }
    },
    {
      "cell_type": "code",
      "source": [
        "action = reflex_vacuum_agent(location,status)\n",
        "print(f\"Location: {location}, Status: {status}, Action : {action}\")"
      ],
      "metadata": {
        "colab": {
          "base_uri": "https://localhost:8080/"
        },
        "id": "qhVw155yW4IP",
        "outputId": "236b0a77-8f19-4567-e4d5-1d1aad2f8e66"
      },
      "execution_count": null,
      "outputs": [
        {
          "output_type": "stream",
          "name": "stdout",
          "text": [
            "Location: A, Status: Dirty, Action : Suck\n"
          ]
        }
      ]
    },
    {
      "cell_type": "markdown",
      "source": [
        "Simple Reflex Agent for Vacuum Cleaner World"
      ],
      "metadata": {
        "id": "Vt6ihgAoYQjZ"
      }
    },
    {
      "cell_type": "code",
      "execution_count": null,
      "metadata": {
        "id": "MFHjwSZRYQjZ"
      },
      "outputs": [],
      "source": [
        "def reflex_vacuum_agent(location,status):\n",
        "  if status == \"Dirty\":\n",
        "    return \"Suck\"\n",
        "  elif location == \"A\":\n",
        "    return \"Right\"\n",
        "  elif location == \"B\":\n",
        "    return \"Left\""
      ]
    },
    {
      "cell_type": "markdown",
      "source": [
        "Test the reflex agent, A is dirty , B is clean"
      ],
      "metadata": {
        "id": "R5giE6CsYQjZ"
      }
    },
    {
      "cell_type": "code",
      "source": [
        "location =  \"A\"\n",
        "status = \"Dirty\"\n",
        "locations = [\"A\",\"B\"]"
      ],
      "metadata": {
        "id": "lpe2k3p9YQjZ"
      },
      "execution_count": null,
      "outputs": []
    },
    {
      "cell_type": "markdown",
      "source": [
        "Simulate Agent Actions"
      ],
      "metadata": {
        "id": "nfRl0R4CYYou"
      }
    },
    {
      "cell_type": "code",
      "source": [
        "for _ in range(5):\n",
        "  action = reflex_vacuum_agent(location,status)\n",
        "  print(f\"Location: {location}, Status: {status}, Action : {action}\")\n",
        "  if action == \"Suck\":\n",
        "    status = \"Clean\"\n",
        "  elif action == \"Right\":\n",
        "    location = \"B\"\n",
        "  elif action == \"Left\":\n",
        "    location = \"A\""
      ],
      "metadata": {
        "colab": {
          "base_uri": "https://localhost:8080/"
        },
        "id": "-t7pkZO4YaI_",
        "outputId": "9e3ade7c-d0ef-4a2c-9294-3994bfcbedb7"
      },
      "execution_count": null,
      "outputs": [
        {
          "output_type": "stream",
          "name": "stdout",
          "text": [
            "Location: A, Status: Dirty, Action : Suck\n",
            "Location: A, Status: Clean, Action : Right\n",
            "Location: B, Status: Clean, Action : Left\n",
            "Location: A, Status: Clean, Action : Right\n",
            "Location: B, Status: Clean, Action : Left\n"
          ]
        }
      ]
    },
    {
      "cell_type": "markdown",
      "source": [
        "For Position:"
      ],
      "metadata": {
        "id": "FP7-3MAwZi6O"
      }
    },
    {
      "cell_type": "code",
      "source": [
        "def move_towards_goal(position,goal):\n",
        "  while position < goal:\n",
        "    position +=1\n",
        "    print(f\"Current Position: {position}\")\n",
        "  print(\"Reached the goal!\")"
      ],
      "metadata": {
        "id": "zxfoVeKFZk4P"
      },
      "execution_count": null,
      "outputs": []
    },
    {
      "cell_type": "markdown",
      "source": [
        "Set initial position and goal position"
      ],
      "metadata": {
        "id": "0nvaJetWZ62_"
      }
    },
    {
      "cell_type": "code",
      "source": [
        "initial_pos=0\n",
        "goal_pos=5"
      ],
      "metadata": {
        "id": "j9pDvvSfZ8uP"
      },
      "execution_count": null,
      "outputs": []
    },
    {
      "cell_type": "markdown",
      "source": [
        "Move towards the goal"
      ],
      "metadata": {
        "id": "ncU8YTIlaATH"
      }
    },
    {
      "cell_type": "code",
      "source": [
        "move_towards_goal(initial_pos,goal_pos)"
      ],
      "metadata": {
        "colab": {
          "base_uri": "https://localhost:8080/"
        },
        "id": "CXuT-XbUZ_TH",
        "outputId": "4cee28f3-f972-486e-851b-95a1707be1a6"
      },
      "execution_count": null,
      "outputs": [
        {
          "output_type": "stream",
          "name": "stdout",
          "text": [
            "Current Position: 1\n",
            "Current Position: 2\n",
            "Current Position: 3\n",
            "Current Position: 4\n",
            "Current Position: 5\n",
            "Reached the goal!\n"
          ]
        }
      ]
    },
    {
      "cell_type": "markdown",
      "source": [
        "Program to implement vacuum cleaner agent for two rooms import random"
      ],
      "metadata": {
        "id": "9MkkM2YTawzf"
      }
    },
    {
      "cell_type": "code",
      "source": [
        "def display(room):\n",
        "  print(room)"
      ],
      "metadata": {
        "id": "uZVCMLAZaGVX"
      },
      "execution_count": null,
      "outputs": []
    },
    {
      "cell_type": "markdown",
      "source": [
        "Initialize the room  as a 4x4 grid, all elements"
      ],
      "metadata": {
        "id": "4sXf_9Jibjq4"
      }
    },
    {
      "cell_type": "code",
      "source": [
        "room = [[1,1,1,1],[1,1,1,1],[1,1,1,1],[1,1,1,1]]\n",
        "print(\"All the rooms are dirty\")\n",
        "display(room)"
      ],
      "metadata": {
        "colab": {
          "base_uri": "https://localhost:8080/"
        },
        "id": "TppqtS0Ma3pH",
        "outputId": "5d79236f-e550-4bcf-af44-6a1f8088b20c"
      },
      "execution_count": null,
      "outputs": [
        {
          "output_type": "stream",
          "name": "stdout",
          "text": [
            "All the rooms are dirty\n",
            "[[1, 1, 1, 1], [1, 1, 1, 1], [1, 1, 1, 1], [1, 1, 1, 1]]\n"
          ]
        }
      ]
    },
    {
      "cell_type": "code",
      "source": [
        "#Randomly assign rooms as dirty\n",
        "x=0"
      ],
      "metadata": {
        "id": "EtD2Nysibumg"
      },
      "execution_count": null,
      "outputs": []
    }
  ]
}